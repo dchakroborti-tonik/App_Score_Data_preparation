{
 "cells": [
  {
   "cell_type": "markdown",
   "metadata": {},
   "source": [
    "# Oleh request for App data"
   ]
  },
  {
   "cell_type": "markdown",
   "metadata": {},
   "source": [
    "## Created by Bala\n",
    "Dated - 28-11-2024"
   ]
  },
  {
   "cell_type": "code",
   "execution_count": 1,
   "metadata": {},
   "outputs": [],
   "source": [
    "# %% [markdown]\n",
    "# # Jupyter Notebook Loading Header\n",
    "#\n",
    "# This is a custom loading header for Jupyter Notebooks in Visual Studio Code.\n",
    "# It includes common imports and settings to get you started quickly.\n",
    "\n",
    "# %% [markdown]\n",
    "## Import Libraries\n",
    "import pandas as pd\n",
    "import numpy as np\n",
    "import matplotlib.pyplot as plt\n",
    "import seaborn as sns\n",
    "from google.cloud import bigquery\n",
    "import os\n",
    "path = r'C:\\Users\\DwaipayanChakroborti\\AppData\\Roaming\\gcloud\\legacy_credentials\\dchakroborti@tonikbank.com\\adc.json'\n",
    "os.environ['GOOGLE_APPLICATION_CREDENTIALS'] = path\n",
    "client = bigquery.Client(project='prj-prod-dataplatform')\n",
    "\n",
    "# %% [markdown]\n",
    "## Configure Settings\n",
    "# Set options or configurations as needed\n",
    "# Example: pd.set_option('display.max_columns', None)"
   ]
  },
  {
   "cell_type": "code",
   "execution_count": 2,
   "metadata": {},
   "outputs": [
    {
     "name": "stdout",
     "output_type": "stream",
     "text": [
      "Table worktable_data_analysis.credo_score_July2023_Nov2024 dropped\n"
     ]
    }
   ],
   "source": [
    "sq = \"\"\"drop table if exists prj-prod-dataplatform.worktable_data_analysis.credo_score_July2023_Nov2024;\"\"\"\n",
    "\n",
    "client.query(sq)\n",
    "\n",
    "print(\"Table worktable_data_analysis.credo_score_July2023_Nov2024 dropped\")\n",
    "\n"
   ]
  },
  {
   "cell_type": "code",
   "execution_count": 3,
   "metadata": {},
   "outputs": [
    {
     "name": "stdout",
     "output_type": "stream",
     "text": [
      "Table  table prj-prod-dataplatform.worktable_data_analysis.credo_score_July2023_Nov2024 is created\n"
     ]
    }
   ],
   "source": [
    "sq = \"\"\"create table prj-prod-dataplatform.worktable_data_analysis.credo_score_July2023_Nov2024 as\n",
    "select  distinct customerId,user_id,tsaOnboardingDateTime,credolab_ReferenceNumber,deviceType,\n",
    "digitalLoanAccountId,case when loan_type in ('Flex-up','Reloan') then 'Repeat Applicant' \n",
    "when First_application=1 and customer_id_first_applicant is not null then 'New Applicant'\n",
    "when accept_cust_id is null then  'Prev_Rejected_Reapply'\n",
    "when rn=1 then 'New Applicant' \n",
    "--when Reject_application_count=1 then 'New Applicant' \n",
    "when accept_application_count>1 and accept_cust_id is not null then  'Repeat Applicant'\n",
    "\n",
    "else 'Repeat Applicant' \n",
    "end as applicant_type,loan_type,loan_sub_type,sil_product,application_Submission_DateTime,datetime(credolab_enquiry_date,'Asia/Manila') credolab_enquiry_date,\n",
    "date_diff(date(credolab_enquiry_date),date(application_Submission_DateTime), DAY) as Days_diff_loan_applied_credo_enquiry,\n",
    "fraudScore,credolabScore,decision,applicationStatus,disbursementFlag,flg_mature_fpd10,flg_mature_fpd30,\n",
    "flg_mature_fspd_30,flg_mature_fstpd_30,deffpd10,deffpd30,deffspd30,deffstpd30\n",
    "\n",
    "from (with deliquency as\n",
    "(select loanAccountNumber,\n",
    "case when obs_min_inst_def10 >=1 and min_inst_def10 =1 then 1 else 0 end deffpd10,\n",
    "case when obs_min_inst_def30 >=1 and min_inst_def30 =1 then 1 else 0 end deffpd30,\n",
    "case when obs_min_inst_def30 >=2 and min_inst_def30  in (1,2) then 1 else 0 end deffspd30,\n",
    "case when obs_min_inst_def30 >=3 and min_inst_def30 in (1,2,3) then 1 else 0 end deffstpd30,\n",
    "case when obs_min_inst_def10 >=1 then 1 else 0 end flg_mature_fpd10,\n",
    "case when obs_min_inst_def30 >=1 then 1 else 0 end flg_mature_fpd30,\n",
    "case when obs_min_inst_def30 >=2 then 1 else 0 end flg_mature_fspd_30,\n",
    "case when obs_min_inst_def30 >=3 then 1 else 0 end flg_mature_fstpd_30\n",
    "from prj-prod-dataplatform.risk_credit_mis.loan_deliquency_data),\n",
    "\n",
    "credolab_creation as (select --min(A.created_dt),min(B.createdOn)\n",
    "digitalLoanAccountId,credolabRefNumber,A.userId,loanDigitalAppliedDateAndTime,A.created_dt,B.createdOn,A.clCreditScore,B.creditScore \n",
    "from `dl_loans_db_raw.tdbk_digital_loan_application` A\n",
    "join dl_loans_db_raw.tdbk_credolab_track B on refno=credolabRefNumber qualify row_number() over(partition by credolabRefNumber,digitalLoanAccountId order by createdOn desc )=1),\n",
    "\n",
    "accept_application_cnt as (select customerId,count(*) as accept_application_count\n",
    "from risk_credit_mis.loan_master_table loan where loan.new_loan_type in ('Flex-up','SIL-Instore','SIL-Online(discontinued)','Quick','SIL ZERO','ACL Patner 711')\n",
    "  and (flagApproval = 1 or flagRejection = 1 or loan.new_loan_type in ('Flex-up')) and coalesce(loan.termsAndConditionsSubmitDateTime,if (loan.new_loan_type ='Flex-up',loan.startApplyDateTime,loan.termsAndConditionsSubmitDateTime))  is not null and applicationStatus in ('ACTIVATED','COMPLETED','APPROVED',\n",
    "'INPROGRESS','SIGNEDDOCCOMPLETED','ACCEPT') group by 1 order by customerId),\n",
    "\n",
    "\n",
    "applciant_type_first as (select customerId customer_id_first_applicant,count(*) First_application from `prj-prod-dataplatform.risk_credit_mis.loan_master_table` \n",
    "where new_loan_type in ('Flex-up','SIL-Instore','SIL-Online(discontinued)','Quick','SIL ZERO','ACL Patner 711')\n",
    "  and (flagApproval = 1 or flagRejection = 1 or new_loan_type in ('Flex-up')) and coalesce(termsAndConditionsSubmitDateTime,if (new_loan_type ='Flex-up',startApplyDateTime,termsAndConditionsSubmitDateTime))  is not null group by 1 having count(*)=1),\n",
    "\n",
    "previous_loan_product as (select loan.customerId,\n",
    "    case when loan.new_loan_type ='Flex-up' and reloan_flag=1 then 'Reloan'\n",
    "    when loan.new_loan_type ='Flex-up' and reloan_flag=0 then 'Flex-up'\n",
    "     WHEN loan.new_loan_type ='Flex' then 'Flex'\n",
    "    when loan.new_loan_type ='Quick'  then 'Quick'\n",
    "    when loan.new_loan_type ='Flex-up' and reloan_flag=0 then 'Flex-up'\n",
    "    when loan.new_loan_type in ('SIL-Instore','SIL-Online(discontinued)') then 'SIL'\n",
    "\twhen loan.new_loan_type in ('SIL ZERO') then 'SIL ZERO'\n",
    "\twhen loan.new_loan_type in ('ACL Patner 711') then '711'\n",
    "    end as prev_new_loan_type,loan.loanType prev_loan_type,prev_loan.previous_loan_acct,prev_loan.loanAccountNumber,loan.startApplyDateTime from `risk_credit_mis.loan_master_table` loan\n",
    "join\n",
    "(select * from (select customerId, digitalLoanAccountId,loanAccountNumber,new_loan_type,startApplyDateTime, lead(loanAccountNumber)\n",
    " OVER(PARTITION BY customerId order by startApplyDateTime desc) as previous_loan_acct from `risk_credit_mis.loan_master_table`\n",
    " where applicationStatus in ('COMPLETED','ACTIVATED')  order by customerId) where --previous_loan_acct is not null and \n",
    " new_loan_type='Flex-up')prev_loan on loan.loanAccountNumber=prev_loan.previous_loan_acct)\n",
    "  \n",
    "  select\n",
    "  loan.customerId,\n",
    "  cust.user_id,\n",
    "  tsa_onboarding_time as tsaOnboardingDateTime,\n",
    "  credolab_creation.credolabRefNumber as credolab_ReferenceNumber,\n",
    "  deviceType,\n",
    "  loan.digitalLoanAccountId,\n",
    "  --case when applciant_type_first.disbursed_loan >1 then 'Repeat Applicant' else 'New Applicant' end as applicant_type,\n",
    "\n",
    "    case when loan.new_loan_type ='Flex-up' and reloan_flag=1 then 'Reloan'\n",
    "    when loan.new_loan_type ='Flex-up' and reloan_flag=0 then 'Flex-up'\n",
    "    when loan.new_loan_type ='Quick'  then 'Quick'\n",
    "    when loan.new_loan_type ='Flex-up' and reloan_flag=0 then 'Flex-up'\n",
    "    when loan.new_loan_type in ('SIL-Instore','SIL-Online(discontinued)') then 'SIL'\n",
    "\twhen loan.new_loan_type in ('SIL ZERO') then 'SIL ZERO'\n",
    "    when loan.new_loan_type in ('ACL Patner 711') then '711'\n",
    "    end as loan_type,\n",
    "    case when loan.new_loan_type ='Flex-up' and reloan_flag=1 then coalesce('Reloan_'||prev_new_loan_type)\n",
    "    when loan.new_loan_type ='Flex-up' and reloan_flag=0 then coalesce('Flex-up_'||prev_new_loan_type)\n",
    "    else loan.new_loan_type end loan_sub_type,\n",
    "    \n",
    "    --new_loan_type as sub_loan_type,reloan_flag,\n",
    "    --prev_new_loan_type, \n",
    "    case when loan.loantype='BNPL' and store_type =1 then 'Appliance'\n",
    "    when loan.loantype='BNPL' and store_type =2 then 'Mobile' \n",
    "    when loan.loantype='BNPL' and store_type =3 then 'Mall' \n",
    "    when loan.loantype='BNPL' and store_type not in (1,2,3) then store_tagging\n",
    "    else 'not applicable' end as sil_product,\n",
    "    coalesce(loan.termsAndConditionsSubmitDateTime,if (loan.new_loan_type ='Flex-up',loan.startApplyDateTime,loan.termsAndConditionsSubmitDateTime)) application_Submission_DateTime,\n",
    "    fraudScore,credolabScore,\n",
    "      case\n",
    "      when flagApproval = 1 then 'approved'\n",
    "      when flagRejection = 1 then 'rejected'\n",
    "      else 'auto-approved without model'\n",
    "    end as decision,\n",
    "    applicationStatus,\n",
    "    flagDisbursement as disbursementFlag,flg_mature_fpd10,flg_mature_fpd30,flg_mature_fspd_30,flg_mature_fstpd_30,\n",
    "    -- IF(Date_diff(current_date(),date(disbursementDateTime), DAY) >= 40, 1 ,0) as flg_mature_fpd10,\n",
    "    -- IF(Date_diff(current_date(),date(disbursementDateTime), DAY) >= 60, 1 ,0) as flg_mature_fpd30,\n",
    "    -- IF(Date_diff(current_date(),date(disbursementDateTime), DAY) >= 90, 1 ,0) as flg_mature_fspd_30,\n",
    "    -- IF(Date_diff(current_date(),date(disbursementDateTime), DAY) >= 120, 1 ,0) as flg_mature_fstpd_30,\n",
    "    \n",
    "    deliquency.deffpd10,deliquency.deffpd30,deliquency.deffspd30,deliquency.deffstpd30,row_number() over (partition by loan.customerId order by coalesce(termsAndConditionsSubmitDateTime,if (new_loan_type ='Flex-up',loan.startApplyDateTime,termsAndConditionsSubmitDateTime))) rn,accept_application_count,accept_application_cnt.customerId accept_cust_id,First_application,customer_id_first_applicant,credolab_creation.createdOn credolab_enquiry_date\n",
    "\n",
    "   \n",
    "  from prj-prod-dataplatform.risk_credit_mis.loan_master_table loan\n",
    "  left join(SELECT DISTINCT mer_refferal_code, mer_name mer_name,store_type,store_tagging FROM `dl_loans_db_raw.tdbk_merchant_refferal_mtb`\n",
    "  left join worktable_datachampions.TARGET_SPLIT P on P.STORE_NAME = mer_name\n",
    " qualify row_number() over(partition by mer_refferal_code order by  created_dt desc)=1) sil_category on purpleKey=sil_category.mer_refferal_code\n",
    "  left join deliquency on deliquency.loanAccountNumber=loan.loanAccountNumber\n",
    "  left join previous_loan_product on previous_loan_product.loanAccountNumber=loan.loanAccountNumber\n",
    "  left join applciant_type_first on applciant_type_first.customer_id_first_applicant=loan.customerId\n",
    "  left join dl_customers_db_raw.tdbk_customer_mtb cust on cust.cust_id=cast(loan.customerId as string)\n",
    "  left join accept_application_cnt on accept_application_cnt.customerId=loan.customerId\n",
    "  left join credolab_creation on credolab_creation.digitalLoanAccountId=loan.digitalLoanAccountId\n",
    "  where loan.new_loan_type in ('Flex-up','SIL-Instore','SIL-Online(discontinued)','Quick','SIL ZERO','ACL Patner 711')\n",
    "  and (flagApproval = 1 or flagRejection = 1 or loan.new_loan_type in ('Flex-up')) and coalesce(loan.termsAndConditionsSubmitDateTime,if (loan.new_loan_type ='Flex-up',loan.startApplyDateTime,loan.termsAndConditionsSubmitDateTime))  is not null) final where loan_sub_type is not null and disbursementFlag =1 and \n",
    "  date(application_Submission_DateTime) between '2023-07-01' and '2024-11-27' and\n",
    "\n",
    "  decision  in ('approved','auto-approved without model');\"\"\"\n",
    "  \n",
    "client.query(sq)\n",
    "\n",
    "print(\"Table  table prj-prod-dataplatform.worktable_data_analysis.credo_score_July2023_Nov2024 is created\")\n",
    "  "
   ]
  },
  {
   "cell_type": "code",
   "execution_count": 4,
   "metadata": {},
   "outputs": [
    {
     "name": "stdout",
     "output_type": "stream",
     "text": [
      "Table  `prj-prod-dataplatform.worktable_data_analysis.credo_app_package_july2023_nov2024` dropped\n"
     ]
    }
   ],
   "source": [
    "sq = \"\"\"drop table if exists  `prj-prod-dataplatform.worktable_data_analysis.credo_app_package_july2023_nov2024`;\"\"\"\n",
    "\n",
    "client.query(sq)\n",
    "\n",
    "print(\"Table  `prj-prod-dataplatform.worktable_data_analysis.credo_app_package_july2023_nov2024` dropped\")"
   ]
  },
  {
   "cell_type": "code",
   "execution_count": 5,
   "metadata": {},
   "outputs": [
    {
     "name": "stdout",
     "output_type": "stream",
     "text": [
      "Table  `prj-prod-dataplatform.worktable_data_analysis.credo_app_package_july2023_nov2024` is created\n"
     ]
    }
   ],
   "source": [
    "sq = \"\"\"create or replace table `prj-prod-dataplatform.worktable_data_analysis.credo_app_package_july2023_nov2024` as \n",
    "with \n",
    "credolab_creation as (select --min(A.created_dt),min(B.createdOn)\n",
    "digitalLoanAccountId,credolabRefNumber,A.userId,loanDigitalAppliedDateAndTime,A.created_dt,B.createdOn,A.clCreditScore,B.creditScore \n",
    "from `dl_loans_db_raw.tdbk_digital_loan_application` A\n",
    "join dl_loans_db_raw.tdbk_credolab_track B on refno=credolabRefNumber qualify row_number() over(partition by credolabRefNumber,digitalLoanAccountId order by createdOn desc )=1)\n",
    "\n",
    "select --app.*,track.userId,\n",
    "distinct \n",
    "loan.customerId,loan.digitalLoanAccountId,loan.loanAccountNumber,\n",
    "app.package_name,app.first_install_time,app.last_update_time,app.version_name,\n",
    "app.deviceId,app.flags application_flags,credo.credolabRefNumber,\n",
    " case when  new_loan_type='Flex-up' and reloan_flag=1 then 'Reloan'\n",
    "when new_loan_type='Flex-up' and reloan_flag<>1 then 'Flex-up'\n",
    "else new_loan_type end as new_loan_type,\n",
    "from  (SELECT deviceId,A.package_name,A.first_install_time,A.last_update_time,A.version_name,A.flags FROM `prj-prod-dataplatform.credolab_raw.android_credolab_Application`,\n",
    "unnest(Application) A) app\n",
    "\n",
    "--join dl_loans_db_raw.tdbk_credolab_track track on app.deviceId=track.refno\n",
    "join credolab_creation credo on credo.credolabRefNumber=app.deviceId\n",
    "join `prj-prod-dataplatform.risk_credit_mis.loan_master_table` loan\n",
    "on credo.digitalLoanAccountId=loan.digitalLoanAccountId\n",
    "where coalesce(loan.termsAndConditionsSubmitDateTime,if (loan.new_loan_type ='Flex-up',loan.startApplyDateTime,loan.termsAndConditionsSubmitDateTime)) between \n",
    "'2023-07-01' and '2024-11-27' and loan.loanAccountNumber is not null;\n",
    "\n",
    "\"\"\"\n",
    "\n",
    "client.query(sq)\n",
    "\n",
    "print(\"Table  `prj-prod-dataplatform.worktable_data_analysis.credo_app_package_july2023_nov2024` is created\")\n"
   ]
  },
  {
   "cell_type": "code",
   "execution_count": 11,
   "metadata": {},
   "outputs": [
    {
     "name": "stdout",
     "output_type": "stream",
     "text": [
      "Table worktable_data_analysis.credolab_app_package_details_Quick dropped\n"
     ]
    }
   ],
   "source": [
    "sq = \"\"\" drop table if exists worktable_data_analysis.credolab_app_package_details_Quick_july2023_nov2024;\"\"\"\n",
    "\n",
    "client.query(sq)\n",
    "\n",
    "print(\"Table worktable_data_analysis.credolab_app_package_details_Quick dropped\")"
   ]
  },
  {
   "cell_type": "code",
   "execution_count": 12,
   "metadata": {},
   "outputs": [
    {
     "name": "stdout",
     "output_type": "stream",
     "text": [
      "Table worktable_data_analysis.credolab_app_package_details_Quick_july2023_nov2024 created\n"
     ]
    }
   ],
   "source": [
    "sq = \"\"\"create table worktable_data_analysis.credolab_app_package_details_Quick_july2023_nov2024 as select * from worktable_data_analysis.credo_app_package_july2023_nov2024\n",
    "where new_loan_type='Quick';\"\"\"\n",
    "\n",
    "client.query(sq)\n",
    "\n",
    "print(\"Table worktable_data_analysis.credolab_app_package_details_Quick_july2023_nov2024 created\")"
   ]
  },
  {
   "cell_type": "code",
   "execution_count": 13,
   "metadata": {},
   "outputs": [
    {
     "name": "stdout",
     "output_type": "stream",
     "text": [
      "Table worktable_data_analysis.credolab_app_package_details_Flexup_july2023_nov2024 dropped\n"
     ]
    }
   ],
   "source": [
    "sq = \"\"\"drop table if exists worktable_data_analysis.credolab_app_package_details_Flexup_july2023_nov2024;\"\"\"\n",
    "\n",
    "client.query(sq)\n",
    "\n",
    "print(\"Table worktable_data_analysis.credolab_app_package_details_Flexup_july2023_nov2024 dropped\")"
   ]
  },
  {
   "cell_type": "code",
   "execution_count": 14,
   "metadata": {},
   "outputs": [
    {
     "name": "stdout",
     "output_type": "stream",
     "text": [
      "Table worktable_data_analysis.credolab_app_package_details_Flexup_july2023_nov2024 created \n"
     ]
    }
   ],
   "source": [
    "sq = \"\"\"create table worktable_data_analysis.credolab_app_package_details_Flexup_july2023_nov2024 as select * from worktable_data_analysis.credo_app_package_july2023_nov2024\n",
    "where new_loan_type in ('Flex-up','Reloan');\"\"\"\n",
    "\n",
    "client.query(sq)\n",
    "\n",
    "print(\"Table worktable_data_analysis.credolab_app_package_details_Flexup_july2023_nov2024 created \")"
   ]
  },
  {
   "cell_type": "code",
   "execution_count": 15,
   "metadata": {},
   "outputs": [
    {
     "name": "stdout",
     "output_type": "stream",
     "text": [
      "Table worktable_data_analysis.credolab_app_package_details_Sil_july2023_nov2024 is dropped\n"
     ]
    }
   ],
   "source": [
    "sq = \"\"\"drop table if exists worktable_data_analysis.credolab_app_package_details_Sil_july2023_nov202;\"\"\"\n",
    "\n",
    "client.query(sq)\n",
    "\n",
    "\n",
    "print(\"Table worktable_data_analysis.credolab_app_package_details_Sil_july2023_nov2024 is dropped\")"
   ]
  },
  {
   "cell_type": "code",
   "execution_count": 16,
   "metadata": {},
   "outputs": [
    {
     "name": "stdout",
     "output_type": "stream",
     "text": [
      "Table  worktable_data_analysis.credolab_app_package_details_Sil_july2023_nov2024 is created\n"
     ]
    }
   ],
   "source": [
    "sq = \"\"\"create table worktable_data_analysis.credolab_app_package_details_Sil_july2023_nov2024 as select * from worktable_data_analysis.credo_app_package_july2023_nov2024\n",
    "where new_loan_type='SIL-Instore';\"\"\"\n",
    "\n",
    "client.query(sq)\n",
    "\n",
    "print(\"Table  worktable_data_analysis.credolab_app_package_details_Sil_july2023_nov2024 is created\")"
   ]
  },
  {
   "cell_type": "code",
   "execution_count": null,
   "metadata": {},
   "outputs": [],
   "source": []
  }
 ],
 "metadata": {
  "kernelspec": {
   "display_name": "reporting",
   "language": "python",
   "name": "python3"
  },
  "language_info": {
   "codemirror_mode": {
    "name": "ipython",
    "version": 3
   },
   "file_extension": ".py",
   "mimetype": "text/x-python",
   "name": "python",
   "nbconvert_exporter": "python",
   "pygments_lexer": "ipython3",
   "version": "3.9.19"
  }
 },
 "nbformat": 4,
 "nbformat_minor": 2
}
